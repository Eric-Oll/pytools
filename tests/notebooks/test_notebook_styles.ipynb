{
 "cells": [
  {
   "cell_type": "markdown",
   "id": "6955b4f4-44e9-4407-9eba-f7f74dc9e602",
   "metadata": {},
   "source": [
    "<h1 class=\"alert alert-primary text-center\">Tests sur le module `pytools.notebook.styles`</h1>"
   ]
  },
  {
   "cell_type": "code",
   "execution_count": 49,
   "id": "23d8bf61-8910-496a-9c3d-59e5393656ed",
   "metadata": {},
   "outputs": [
    {
     "data": {
      "text/html": [
       "<STYLE type=\"text/css\">\n",
       ".resultat-ok{\n",
       "    color:green;\n",
       "}\n",
       ".resultat-ko{\n",
       "    color: red;\n",
       "}\n",
       ".message-error{\n",
       "    color: red;\n",
       "    font-style: italic;\n",
       "}\n",
       ".info{\n",
       "    color:CornflowerBlue;\n",
       "}\n",
       "th {\n",
       "    color:CornflowerBlue;\n",
       "}\n",
       "</STYLE>\n"
      ]
     },
     "metadata": {},
     "output_type": "display_data"
    },
    {
     "data": {
      "text/html": [
       "<link href=\"https://cdn.jsdelivr.net/npm/bootstrap@5.0.2/dist/css/bootstrap.min.css\" rel=\"stylesheet\">"
      ]
     },
     "metadata": {},
     "output_type": "display_data"
    }
   ],
   "source": [
    "if 'styles' in dir():\n",
    "    from importlib import reload\n",
    "    reload(styles)\n",
    "else:\n",
    "    from pytools.notebook import styles\n",
    "styles.active_boostrap()"
   ]
  },
  {
   "cell_type": "code",
   "execution_count": 3,
   "id": "3d49c151-f5c5-4083-ab71-5db38bfab2d3",
   "metadata": {},
   "outputs": [
    {
     "data": {
      "text/html": [
       "<h1 class='text-primary'>Titre 1</h1>"
      ]
     },
     "metadata": {},
     "output_type": "display_data"
    },
    {
     "data": {
      "text/html": [
       "<h2 class='text-secondary'>Titre 2</h2>"
      ]
     },
     "metadata": {},
     "output_type": "display_data"
    },
    {
     "data": {
      "text/html": [
       "<h3 class='text-info'>Titre 3</h3>"
      ]
     },
     "metadata": {},
     "output_type": "display_data"
    },
    {
     "data": {
      "text/html": [
       "<h4 class='text-warning'>Titre 4</h4>"
      ]
     },
     "metadata": {},
     "output_type": "display_data"
    },
    {
     "data": {
      "text/html": [
       "<h5 class='text-danger'>Titre 5</h5>"
      ]
     },
     "metadata": {},
     "output_type": "display_data"
    },
    {
     "data": {
      "text/html": [
       "<h6 class='text-success'>Titre 6</h6>"
      ]
     },
     "metadata": {},
     "output_type": "display_data"
    },
    {
     "data": {
      "text/html": [
       "<p class='text-primary'>Paragraphe</p>"
      ]
     },
     "metadata": {},
     "output_type": "display_data"
    }
   ],
   "source": [
    "styles.h1(\"Titre 1\", \"text-primary\")\n",
    "styles.h2(\"Titre 2\", \"text-secondary\")\n",
    "styles.h3(\"Titre 3\", \"text-info\")\n",
    "styles.h4(\"Titre 4\", \"text-warning\")\n",
    "styles.h5(\"Titre 5\", \"text-danger\")\n",
    "styles.h6(\"Titre 6\", \"text-success\")\n",
    "styles.p(\"Paragraphe\", \"text-primary\")"
   ]
  },
  {
   "cell_type": "code",
   "execution_count": 50,
   "id": "f9c1bc16-612f-47df-9007-48e39280cf8a",
   "metadata": {},
   "outputs": [
    {
     "data": {
      "text/html": [
       "<h1 class='container contain-fluid text-primary'>Test du tableau</h1>"
      ]
     },
     "metadata": {},
     "output_type": "display_data"
    },
    {
     "data": {
      "text/html": [
       "<table class='text-warning'><tr><th class='alert alert-info'>Titre</th><th class='alert alert-info'>Titre 2</th></tr><tr class=''></tr><tr class='text-secondary'><td class=''>Coucou</td><td class=''>Tata</td></tr><tr class=''><td class=''>Titi-col 1</td><td class='text-success col-md-4'>Titi-col 2</td></tr><tr class=''><td class=''>Colonne unique</td></tr><tr class=''></tr><tr class='text-secondary'><td class=''></td><td class=''>Colonne unique 2</td></tr></table>"
      ]
     },
     "metadata": {},
     "output_type": "display_data"
    }
   ],
   "source": [
    "styles.h1('Test du tableau', \"container contain-fluid text-primary\")\n",
    "table = styles.HTMLTable(headers=[\"Titre\", 'Titre 2'], header_classe=\"alert alert-info\", table_classe=\"text-warning\")\n",
    "table.add_rows(['Coucou', 'Tata'])\n",
    "\n",
    "row = table.add_rows(classe='text-secondary')\n",
    "row.add_column('Titi-col 1')\n",
    "row.add_column('Titi-col 2', classe='text-success col-md-4')\n",
    "\n",
    "table.add_rows(\"Colonne unique\")\n",
    "\n",
    "table.add_rows(['', \"Colonne unique 2\"])\n",
    "\n",
    "table.print()\n"
   ]
  }
 ],
 "metadata": {
  "kernelspec": {
   "display_name": "Python 3 (ipykernel)",
   "language": "python",
   "name": "python3"
  },
  "language_info": {
   "codemirror_mode": {
    "name": "ipython",
    "version": 3
   },
   "file_extension": ".py",
   "mimetype": "text/x-python",
   "name": "python",
   "nbconvert_exporter": "python",
   "pygments_lexer": "ipython3",
   "version": "3.9.12"
  }
 },
 "nbformat": 4,
 "nbformat_minor": 5
}
